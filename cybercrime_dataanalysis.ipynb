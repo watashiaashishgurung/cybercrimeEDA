{
 "cells": [
  {
   "cell_type": "markdown",
   "metadata": {},
   "source": [
    "# Predicting Cybersecurity Incidents: Data Analysis\n",
    "\n",
    "Before conducting the actual data analysis to predict cybercrime incidents, it's important to conduct some background research on the topic.\n",
    "\n",
    "Below, I've gathered information about major high-tech releases throughout the year:\n",
    "\n",
    "* **January**: High-tech season kicks off with most high-tech companies sharing their latest innovations and future plans.\n",
    "* **June**: Companies start announcing new hardware releases, designs, and innovations.\n",
    "* **September to October**: The high-tech industry reaches its peak season with major product releases and technological advancements.\n",
    "* **November to December**: The focus shifts towards the holiday shopping season, with continued product releases and updates.\n"
   ]
  },
  {
   "cell_type": "markdown",
   "metadata": {},
   "source": [
    "#### Timeline of High-Tech Product Releases\n",
    "\n",
    "| Month          | Major Events and Releases                                       |\n",
    "|----------------|-----------------------------------------------------------------|\n",
    "| **January**    | **Consumer Electronics Show (CES)**                             |\n",
    "|                | - Major tech companies unveil latest innovations and products   |\n",
    "|                | - Focus on consumer electronics, IoT, and emerging technologies |\n",
    "|                |                                                                 |\n",
    "| **March-April**| **Spring Events**                                               |\n",
    "|                | - Apple sometimes holds special events (e.g., new iPads)        |\n",
    "|                | - Releases to create distance from holiday season               |\n",
    "|                |                                                                 |\n",
    "| **June**       | **Apple Worldwide Developers Conference (WWDC)**                |\n",
    "|                | - Major software updates for iOS, macOS, watchOS, and tvOS      |\n",
    "|                | - Occasional hardware announcements                             |\n",
    "|                |                                                                 |\n",
    "|                | **Microsoft and Other Tech Events**                             |\n",
    "|                | - Significant updates and product announcements                 |\n",
    "|                |                                                                 |\n",
    "| **September**  | **Apple's Major Product Launch**                                |\n",
    "| **October**    | - New iPhones, Apple Watches, and other significant products    |\n",
    "|                |                                                                 |\n",
    "|                | **Google's Pixel Event**                                        |\n",
    "|                | - Announcements of new Pixel phones and other Google hardware   |\n",
    "|                |                                                                 |\n",
    "|                | **Other Tech Announcements**                                    |\n",
    "|                | - Releases ahead of the holiday season                          |\n",
    "|                |                                                                 |\n",
    "| **November**   | **Microsoft and Other Tech Events**                             |\n",
    "|                | - Product releases aimed at the holiday shopping season         |\n",
    "|                | - Focus on consumer and enterprise products                     |\n",
    "\n",
    "#### Summary\n",
    "\n",
    "| Month            | Key Events                                                   |\n",
    "|------------------|--------------------------------------------------------------|\n",
    "| **January**      | CES                                                          |\n",
    "| **March-April**  | Spring events (e.g., Apple iPads)                            |\n",
    "| **June**         | WWDC (Apple software updates), other tech announcements      |\n",
    "| **September-October** | Major product launches (e.g., Apple iPhones, Google Pixel) |\n",
    "| **November**     | Pre-holiday releases (e.g., Microsoft)                       |\n",
    "\n",
    "\n",
    "#### Correlation Between New Releases and Increased Device Bugs, Software Inconsistencies, and Cyber Criminality\n",
    "\n",
    "## 1. New Device Bugs and Inconsistencies in Software Services\n",
    "- **Complexity of New Features**: New devices and software updates often come with complex new features that haven't been tested extensively in real-world scenarios. This can lead to unforeseen bugs and inconsistencies.\n",
    "- **Inadequate Testing Time**: Companies may face tight deadlines to release products, especially if they aim to align with major events or holiday seasons. This rush can result in less rigorous testing, leading to bugs.\n",
    "- **Hardware-Software Integration**: New hardware often requires new drivers and firmware. The interaction between new hardware and existing software can introduce compatibility issues and bugs.\n",
    "- **User Feedback Loop**: After a new release, companies rely on user feedback to identify and fix issues. The initial period after a release typically sees a spike in reported bugs as more users start using the new features.\n",
    "\n",
    "## 2. Increased Cyber Criminality\n",
    "- **Exploitable Vulnerabilities**: New products and updates may introduce new vulnerabilities that cybercriminals can exploit. Until these vulnerabilities are identified and patched, they pose a security risk.\n",
    "- **Increased Attention**: High-profile releases attract the attention of cybercriminals looking to exploit the hype. For example, phishing campaigns often coincide with major product launches to trick users into divulging personal information.\n",
    "- **Lag in Security Updates**: Users may not immediately apply patches or updates, leaving their devices vulnerable. Cybercriminals take advantage of this window of opportunity.\n",
    "- **Targeting Early Adopters**: Early adopters of new technology may not be as vigilant about security practices, making them prime targets for cybercriminals.\n",
    "\n",
    "## Examples and Evidence\n",
    "- **iOS and Android Releases**: Major updates to operating systems like iOS and Android often come with initial bugs that need subsequent patches. The introduction of new features can also lead to security vulnerabilities that are quickly targeted by hackers.\n",
    "- **High-Profile Cyber Attacks**: Following significant product launches, there have been instances of increased cybercriminal activity. For instance, new versions of Windows have historically seen a spike in targeted malware attacks shortly after release.\n",
    "- **Security Reports**: Annual security reports from companies like Symantec and McAfee often highlight the correlation between new tech releases and a temporary increase in cyber threats and vulnerabilities.\n",
    "\n",
    "## Conclusion\n",
    "While the release of new products and updates is crucial for technological advancement, it is accompanied by an increase in bugs, software inconsistencies, and cybercriminal activity. Companies often address these issues through patches and updates post-release, but there is always an initial period of vulnerability that users and organizations must navigate carefully.\n"
   ]
  },
  {
   "cell_type": "markdown",
   "metadata": {},
   "source": [
    "#### To test this, I gathered real-life data from our local Police crime report statistics ([Federale Politie](https://www.politie.be/statistieken/nl/)) and did a fact check. I could have chosen any city, but I decided to use the stats of our local city.\n",
    "\n",
    "#### Let's find out if there is a correlation between cyber crimes and new product releases. In this sense, if the months of the cyber crime reports align with product releases, then we can assume that they are correlated.\n",
    "\n",
    "#### Make sure to clean the dataset before importing in the Jupyter notebook. You can do this by using google sheets and the transpose function. Simply download the file from the website import into a google sheet document and transpose the column into rows. Then proceed as follow.\n"
   ]
  },
  {
   "cell_type": "code",
   "execution_count": 19,
   "metadata": {},
   "outputs": [],
   "source": [
    "# import pandas\n",
    "import pandas as pd\n",
    "import seaborn as sns\n",
    "import matplotlib.pyplot as plt\n",
    "# import dataset that i already modified in sheets\n",
    "transposed = pd.read_csv('/Users/aashishgurung/Downloads/transposed2.csv')"
   ]
  },
  {
   "cell_type": "code",
   "execution_count": 20,
   "metadata": {},
   "outputs": [
    {
     "data": {
      "text/html": [
       "<div>\n",
       "<style scoped>\n",
       "    .dataframe tbody tr th:only-of-type {\n",
       "        vertical-align: middle;\n",
       "    }\n",
       "\n",
       "    .dataframe tbody tr th {\n",
       "        vertical-align: top;\n",
       "    }\n",
       "\n",
       "    .dataframe thead th {\n",
       "        text-align: right;\n",
       "    }\n",
       "</style>\n",
       "<table border=\"1\" class=\"dataframe\">\n",
       "  <thead>\n",
       "    <tr style=\"text-align: right;\">\n",
       "      <th></th>\n",
       "      <th>year</th>\n",
       "      <th>month</th>\n",
       "      <th>total</th>\n",
       "    </tr>\n",
       "  </thead>\n",
       "  <tbody>\n",
       "    <tr>\n",
       "      <th>0</th>\n",
       "      <td>2014</td>\n",
       "      <td>january</td>\n",
       "      <td>54</td>\n",
       "    </tr>\n",
       "    <tr>\n",
       "      <th>1</th>\n",
       "      <td>2014</td>\n",
       "      <td>february</td>\n",
       "      <td>37</td>\n",
       "    </tr>\n",
       "    <tr>\n",
       "      <th>2</th>\n",
       "      <td>2014</td>\n",
       "      <td>march</td>\n",
       "      <td>56</td>\n",
       "    </tr>\n",
       "    <tr>\n",
       "      <th>3</th>\n",
       "      <td>2014</td>\n",
       "      <td>april</td>\n",
       "      <td>63</td>\n",
       "    </tr>\n",
       "    <tr>\n",
       "      <th>4</th>\n",
       "      <td>2014</td>\n",
       "      <td>may</td>\n",
       "      <td>44</td>\n",
       "    </tr>\n",
       "    <tr>\n",
       "      <th>5</th>\n",
       "      <td>2014</td>\n",
       "      <td>june</td>\n",
       "      <td>50</td>\n",
       "    </tr>\n",
       "    <tr>\n",
       "      <th>6</th>\n",
       "      <td>2014</td>\n",
       "      <td>july</td>\n",
       "      <td>27</td>\n",
       "    </tr>\n",
       "    <tr>\n",
       "      <th>7</th>\n",
       "      <td>2014</td>\n",
       "      <td>august</td>\n",
       "      <td>39</td>\n",
       "    </tr>\n",
       "    <tr>\n",
       "      <th>8</th>\n",
       "      <td>2014</td>\n",
       "      <td>september</td>\n",
       "      <td>44</td>\n",
       "    </tr>\n",
       "    <tr>\n",
       "      <th>9</th>\n",
       "      <td>2014</td>\n",
       "      <td>october</td>\n",
       "      <td>56</td>\n",
       "    </tr>\n",
       "  </tbody>\n",
       "</table>\n",
       "</div>"
      ],
      "text/plain": [
       "   year      month  total\n",
       "0  2014    january     54\n",
       "1  2014   february     37\n",
       "2  2014      march     56\n",
       "3  2014      april     63\n",
       "4  2014        may     44\n",
       "5  2014       june     50\n",
       "6  2014       july     27\n",
       "7  2014     august     39\n",
       "8  2014  september     44\n",
       "9  2014    october     56"
      ]
     },
     "execution_count": 20,
     "metadata": {},
     "output_type": "execute_result"
    }
   ],
   "source": [
    "# explore the first few rows of the dataset\n",
    "transposed.head(10)"
   ]
  },
  {
   "cell_type": "code",
   "execution_count": 15,
   "metadata": {},
   "outputs": [
    {
     "data": {
      "text/plain": [
       "360"
      ]
     },
     "execution_count": 15,
     "metadata": {},
     "output_type": "execute_result"
    }
   ],
   "source": [
    "# explore dataset size\n",
    "transposed.size"
   ]
  },
  {
   "cell_type": "markdown",
   "metadata": {},
   "source": [
    "The dataset has 360 observations"
   ]
  },
  {
   "cell_type": "code",
   "execution_count": 16,
   "metadata": {},
   "outputs": [
    {
     "data": {
      "text/plain": [
       "year      int64\n",
       "month    object\n",
       "total     int64\n",
       "dtype: object"
      ]
     },
     "execution_count": 16,
     "metadata": {},
     "output_type": "execute_result"
    }
   ],
   "source": [
    "# explore the data types\n",
    "transposed.dtypes"
   ]
  },
  {
   "cell_type": "code",
   "execution_count": 29,
   "metadata": {},
   "outputs": [
    {
     "data": {
      "text/html": [
       "<div>\n",
       "<style scoped>\n",
       "    .dataframe tbody tr th:only-of-type {\n",
       "        vertical-align: middle;\n",
       "    }\n",
       "\n",
       "    .dataframe tbody tr th {\n",
       "        vertical-align: top;\n",
       "    }\n",
       "\n",
       "    .dataframe thead th {\n",
       "        text-align: right;\n",
       "    }\n",
       "</style>\n",
       "<table border=\"1\" class=\"dataframe\">\n",
       "  <thead>\n",
       "    <tr style=\"text-align: right;\">\n",
       "      <th></th>\n",
       "      <th>year</th>\n",
       "      <th>total</th>\n",
       "    </tr>\n",
       "  </thead>\n",
       "  <tbody>\n",
       "    <tr>\n",
       "      <th>count</th>\n",
       "      <td>120.000000</td>\n",
       "      <td>120.000000</td>\n",
       "    </tr>\n",
       "    <tr>\n",
       "      <th>mean</th>\n",
       "      <td>2018.500000</td>\n",
       "      <td>99.625000</td>\n",
       "    </tr>\n",
       "    <tr>\n",
       "      <th>std</th>\n",
       "      <td>2.884324</td>\n",
       "      <td>61.444662</td>\n",
       "    </tr>\n",
       "    <tr>\n",
       "      <th>min</th>\n",
       "      <td>2014.000000</td>\n",
       "      <td>26.000000</td>\n",
       "    </tr>\n",
       "    <tr>\n",
       "      <th>25%</th>\n",
       "      <td>2016.000000</td>\n",
       "      <td>45.750000</td>\n",
       "    </tr>\n",
       "    <tr>\n",
       "      <th>50%</th>\n",
       "      <td>2018.500000</td>\n",
       "      <td>66.000000</td>\n",
       "    </tr>\n",
       "    <tr>\n",
       "      <th>75%</th>\n",
       "      <td>2021.000000</td>\n",
       "      <td>158.500000</td>\n",
       "    </tr>\n",
       "    <tr>\n",
       "      <th>max</th>\n",
       "      <td>2023.000000</td>\n",
       "      <td>226.000000</td>\n",
       "    </tr>\n",
       "  </tbody>\n",
       "</table>\n",
       "</div>"
      ],
      "text/plain": [
       "              year       total\n",
       "count   120.000000  120.000000\n",
       "mean   2018.500000   99.625000\n",
       "std       2.884324   61.444662\n",
       "min    2014.000000   26.000000\n",
       "25%    2016.000000   45.750000\n",
       "50%    2018.500000   66.000000\n",
       "75%    2021.000000  158.500000\n",
       "max    2023.000000  226.000000"
      ]
     },
     "execution_count": 29,
     "metadata": {},
     "output_type": "execute_result"
    }
   ],
   "source": [
    "transposed.describe()"
   ]
  },
  {
   "cell_type": "markdown",
   "metadata": {},
   "source": [
    "The dataset includes ints for the 'year' and 'total' column and object for the 'month' column."
   ]
  },
  {
   "cell_type": "code",
   "execution_count": 21,
   "metadata": {},
   "outputs": [
    {
     "data": {
      "text/html": [
       "<div>\n",
       "<style scoped>\n",
       "    .dataframe tbody tr th:only-of-type {\n",
       "        vertical-align: middle;\n",
       "    }\n",
       "\n",
       "    .dataframe tbody tr th {\n",
       "        vertical-align: top;\n",
       "    }\n",
       "\n",
       "    .dataframe thead th {\n",
       "        text-align: right;\n",
       "    }\n",
       "</style>\n",
       "<table border=\"1\" class=\"dataframe\">\n",
       "  <thead>\n",
       "    <tr style=\"text-align: right;\">\n",
       "      <th></th>\n",
       "      <th>month</th>\n",
       "      <th>total</th>\n",
       "    </tr>\n",
       "    <tr>\n",
       "      <th>year</th>\n",
       "      <th></th>\n",
       "      <th></th>\n",
       "    </tr>\n",
       "  </thead>\n",
       "  <tbody>\n",
       "    <tr>\n",
       "      <th>2014</th>\n",
       "      <td>januaryfebruarymarchaprilmayjunejulyaugustsept...</td>\n",
       "      <td>564</td>\n",
       "    </tr>\n",
       "    <tr>\n",
       "      <th>2015</th>\n",
       "      <td>januaryfebruarymarchaprilmayjunejulyaugustsept...</td>\n",
       "      <td>515</td>\n",
       "    </tr>\n",
       "    <tr>\n",
       "      <th>2016</th>\n",
       "      <td>januaryfebruarymarchaprilmayjunejulyaugustsept...</td>\n",
       "      <td>526</td>\n",
       "    </tr>\n",
       "    <tr>\n",
       "      <th>2017</th>\n",
       "      <td>januaryfebruarymarchaprilmayjunejulyaugustsept...</td>\n",
       "      <td>536</td>\n",
       "    </tr>\n",
       "    <tr>\n",
       "      <th>2018</th>\n",
       "      <td>januaryfebruarymarchaprilmayjunejulyaugustsept...</td>\n",
       "      <td>701</td>\n",
       "    </tr>\n",
       "    <tr>\n",
       "      <th>2019</th>\n",
       "      <td>januaryfebruarymarchaprilmayjunejulyaugustsept...</td>\n",
       "      <td>1066</td>\n",
       "    </tr>\n",
       "    <tr>\n",
       "      <th>2020</th>\n",
       "      <td>januaryfebruarymarchaprilmayjunejulyaugustsept...</td>\n",
       "      <td>1983</td>\n",
       "    </tr>\n",
       "    <tr>\n",
       "      <th>2021</th>\n",
       "      <td>januaryfebruarymarchaprilmayjunejulyaugustsept...</td>\n",
       "      <td>1966</td>\n",
       "    </tr>\n",
       "    <tr>\n",
       "      <th>2022</th>\n",
       "      <td>januaryfebruarymarchaprilmayjunejulyaugustsept...</td>\n",
       "      <td>2173</td>\n",
       "    </tr>\n",
       "    <tr>\n",
       "      <th>2023</th>\n",
       "      <td>januaryfebruarymarchaprilmayjunejulyaugustsept...</td>\n",
       "      <td>1925</td>\n",
       "    </tr>\n",
       "  </tbody>\n",
       "</table>\n",
       "</div>"
      ],
      "text/plain": [
       "                                                  month  total\n",
       "year                                                          \n",
       "2014  januaryfebruarymarchaprilmayjunejulyaugustsept...    564\n",
       "2015  januaryfebruarymarchaprilmayjunejulyaugustsept...    515\n",
       "2016  januaryfebruarymarchaprilmayjunejulyaugustsept...    526\n",
       "2017  januaryfebruarymarchaprilmayjunejulyaugustsept...    536\n",
       "2018  januaryfebruarymarchaprilmayjunejulyaugustsept...    701\n",
       "2019  januaryfebruarymarchaprilmayjunejulyaugustsept...   1066\n",
       "2020  januaryfebruarymarchaprilmayjunejulyaugustsept...   1983\n",
       "2021  januaryfebruarymarchaprilmayjunejulyaugustsept...   1966\n",
       "2022  januaryfebruarymarchaprilmayjunejulyaugustsept...   2173\n",
       "2023  januaryfebruarymarchaprilmayjunejulyaugustsept...   1925"
      ]
     },
     "execution_count": 21,
     "metadata": {},
     "output_type": "execute_result"
    }
   ],
   "source": [
    "#  groupe the reports by year\n",
    "transposed.groupby('year').sum()"
   ]
  },
  {
   "cell_type": "code",
   "execution_count": 30,
   "metadata": {},
   "outputs": [
    {
     "data": {
      "image/png": "[encoded data removed]",
      "text/plain": [
       "<Figure size 1000x600 with 1 Axes>"
      ]
     },
     "metadata": {},
     "output_type": "display_data"
    }
   ],
   "source": [
    "# Plot cybercrime reports by year\n",
    "\n",
    "plt.figure(figsize=(10, 6))\n",
    "sns.lineplot(x=transposed['year'], y=transposed['total'], data=transposed, marker='o');\n",
    "\n",
    "plt.title('Total cybercrime reports by year over 2014 - 2023 Leuven', fontsize=16);"
   ]
  },
  {
   "cell_type": "markdown",
   "metadata": {},
   "source": [
    "#### We can see that Ciber crime increase drastically in the passed ten years!"
   ]
  },
  {
   "cell_type": "code",
   "execution_count": 24,
   "metadata": {},
   "outputs": [
    {
     "data": {
      "text/html": [
       "<div>\n",
       "<style scoped>\n",
       "    .dataframe tbody tr th:only-of-type {\n",
       "        vertical-align: middle;\n",
       "    }\n",
       "\n",
       "    .dataframe tbody tr th {\n",
       "        vertical-align: top;\n",
       "    }\n",
       "\n",
       "    .dataframe thead th {\n",
       "        text-align: right;\n",
       "    }\n",
       "</style>\n",
       "<table border=\"1\" class=\"dataframe\">\n",
       "  <thead>\n",
       "    <tr style=\"text-align: right;\">\n",
       "      <th></th>\n",
       "      <th>year</th>\n",
       "      <th>total</th>\n",
       "    </tr>\n",
       "    <tr>\n",
       "      <th>month</th>\n",
       "      <th></th>\n",
       "      <th></th>\n",
       "    </tr>\n",
       "  </thead>\n",
       "  <tbody>\n",
       "    <tr>\n",
       "      <th>april</th>\n",
       "      <td>20185</td>\n",
       "      <td>923</td>\n",
       "    </tr>\n",
       "    <tr>\n",
       "      <th>august</th>\n",
       "      <td>20185</td>\n",
       "      <td>954</td>\n",
       "    </tr>\n",
       "    <tr>\n",
       "      <th>december</th>\n",
       "      <td>20185</td>\n",
       "      <td>1095</td>\n",
       "    </tr>\n",
       "    <tr>\n",
       "      <th>february</th>\n",
       "      <td>20185</td>\n",
       "      <td>945</td>\n",
       "    </tr>\n",
       "    <tr>\n",
       "      <th>january</th>\n",
       "      <td>20185</td>\n",
       "      <td>961</td>\n",
       "    </tr>\n",
       "    <tr>\n",
       "      <th>july</th>\n",
       "      <td>20185</td>\n",
       "      <td>862</td>\n",
       "    </tr>\n",
       "    <tr>\n",
       "      <th>june</th>\n",
       "      <td>20185</td>\n",
       "      <td>954</td>\n",
       "    </tr>\n",
       "    <tr>\n",
       "      <th>march</th>\n",
       "      <td>20185</td>\n",
       "      <td>965</td>\n",
       "    </tr>\n",
       "    <tr>\n",
       "      <th>may</th>\n",
       "      <td>20185</td>\n",
       "      <td>1029</td>\n",
       "    </tr>\n",
       "    <tr>\n",
       "      <th>november</th>\n",
       "      <td>20185</td>\n",
       "      <td>1139</td>\n",
       "    </tr>\n",
       "    <tr>\n",
       "      <th>october</th>\n",
       "      <td>20185</td>\n",
       "      <td>1085</td>\n",
       "    </tr>\n",
       "    <tr>\n",
       "      <th>september</th>\n",
       "      <td>20185</td>\n",
       "      <td>1043</td>\n",
       "    </tr>\n",
       "  </tbody>\n",
       "</table>\n",
       "</div>"
      ],
      "text/plain": [
       "            year  total\n",
       "month                  \n",
       "april      20185    923\n",
       "august     20185    954\n",
       "december   20185   1095\n",
       "february   20185    945\n",
       "january    20185    961\n",
       "july       20185    862\n",
       "june       20185    954\n",
       "march      20185    965\n",
       "may        20185   1029\n",
       "november   20185   1139\n",
       "october    20185   1085\n",
       "september  20185   1043"
      ]
     },
     "execution_count": 24,
     "metadata": {},
     "output_type": "execute_result"
    }
   ],
   "source": [
    "# Group the data by month\n",
    "transposed.groupby('month').sum()"
   ]
  },
  {
   "cell_type": "code",
   "execution_count": 25,
   "metadata": {},
   "outputs": [],
   "source": [
    "# Make a list to indext the months \n",
    "month_order = ['january', 'february', 'march', 'april', 'may', 'june', 'july',\n",
    "         'august', 'september', 'october', 'november', 'december']"
   ]
  },
  {
   "cell_type": "code",
   "execution_count": 26,
   "metadata": {},
   "outputs": [
    {
     "data": {
      "text/html": [
       "<div>\n",
       "<style scoped>\n",
       "    .dataframe tbody tr th:only-of-type {\n",
       "        vertical-align: middle;\n",
       "    }\n",
       "\n",
       "    .dataframe tbody tr th {\n",
       "        vertical-align: top;\n",
       "    }\n",
       "\n",
       "    .dataframe thead th {\n",
       "        text-align: right;\n",
       "    }\n",
       "</style>\n",
       "<table border=\"1\" class=\"dataframe\">\n",
       "  <thead>\n",
       "    <tr style=\"text-align: right;\">\n",
       "      <th></th>\n",
       "      <th>total</th>\n",
       "    </tr>\n",
       "    <tr>\n",
       "      <th>month</th>\n",
       "      <th></th>\n",
       "    </tr>\n",
       "  </thead>\n",
       "  <tbody>\n",
       "    <tr>\n",
       "      <th>january</th>\n",
       "      <td>961</td>\n",
       "    </tr>\n",
       "    <tr>\n",
       "      <th>february</th>\n",
       "      <td>945</td>\n",
       "    </tr>\n",
       "    <tr>\n",
       "      <th>march</th>\n",
       "      <td>965</td>\n",
       "    </tr>\n",
       "    <tr>\n",
       "      <th>april</th>\n",
       "      <td>923</td>\n",
       "    </tr>\n",
       "    <tr>\n",
       "      <th>may</th>\n",
       "      <td>1029</td>\n",
       "    </tr>\n",
       "    <tr>\n",
       "      <th>june</th>\n",
       "      <td>954</td>\n",
       "    </tr>\n",
       "    <tr>\n",
       "      <th>july</th>\n",
       "      <td>862</td>\n",
       "    </tr>\n",
       "    <tr>\n",
       "      <th>august</th>\n",
       "      <td>954</td>\n",
       "    </tr>\n",
       "    <tr>\n",
       "      <th>september</th>\n",
       "      <td>1043</td>\n",
       "    </tr>\n",
       "    <tr>\n",
       "      <th>october</th>\n",
       "      <td>1085</td>\n",
       "    </tr>\n",
       "    <tr>\n",
       "      <th>november</th>\n",
       "      <td>1139</td>\n",
       "    </tr>\n",
       "    <tr>\n",
       "      <th>december</th>\n",
       "      <td>1095</td>\n",
       "    </tr>\n",
       "  </tbody>\n",
       "</table>\n",
       "</div>"
      ],
      "text/plain": [
       "           total\n",
       "month           \n",
       "january      961\n",
       "february     945\n",
       "march        965\n",
       "april        923\n",
       "may         1029\n",
       "june         954\n",
       "july         862\n",
       "august       954\n",
       "september   1043\n",
       "october     1085\n",
       "november    1139\n",
       "december    1095"
      ]
     },
     "execution_count": 26,
     "metadata": {},
     "output_type": "execute_result"
    }
   ],
   "source": [
    "# Make a new dataframe with the month indexed in the timely order\n",
    "\n",
    "total_amount_month = transposed.groupby('month').sum()[['total']]\n",
    "total_amount_month = total_amount_month.reindex(index=month_order)\n",
    "total_amount_month"
   ]
  },
  {
   "cell_type": "code",
   "execution_count": 27,
   "metadata": {},
   "outputs": [
    {
     "name": "stderr",
     "output_type": "stream",
     "text": [
      "/var/folders/mh/sbxfmlvn4yqc0hyzdx_ghl5m0000gn/T/ipykernel_8278/2824864846.py:7: FutureWarning: \n",
      "\n",
      "Passing `palette` without assigning `hue` is deprecated and will be removed in v0.14.0. Assign the `x` variable to `hue` and set `legend=False` for the same effect.\n",
      "\n",
      "  ax = sns.barplot(x=total_amount_month.index, y=total_amount_month['total'],  palette='pastel')\n"
     ]
    },
    {
     "data": {
      "image/png": "[encoded data removed]",
      "text/plain": [
       "<Figure size 1200x700 with 1 Axes>"
      ]
     },
     "metadata": {},
     "output_type": "display_data"
    }
   ],
   "source": [
    "# Plot the data visualization cybersecurity incidents by month \n",
    "# import seaborn packages\n",
    "import seaborn as sns\n",
    "\n",
    "# plot reports by month \n",
    "plt.figure(figsize=(12,7))\n",
    "ax = sns.barplot(x=total_amount_month.index, y=total_amount_month['total'],  palette='pastel')\n",
    "\n",
    "plt.title('Total cybercrime reports by month over 2014 - 2023 Leuven', fontsize=16);\n"
   ]
  },
  {
   "cell_type": "markdown",
   "metadata": {},
   "source": [
    "#### As we all can see, there is a correlation between the two events occurring. On average, over the course of 10 years, the cyber crime reports increased together with the product releases, reaching their peak during November. The month with the least cyber crime reports was July. We don't know if this is because there was less crime or fewer reports, as most people would go on holiday during this holiday season.\n"
   ]
  },
  {
   "cell_type": "markdown",
   "metadata": {},
   "source": []
  }
 ],
 "metadata": {
  "kernelspec": {
   "display_name": "Python 3",
   "language": "python",
   "name": "python3"
  },
  "language_info": {
   "codemirror_mode": {
    "name": "ipython",
    "version": 3
   },
   "file_extension": ".py",
   "mimetype": "text/x-python",
   "name": "python",
   "nbconvert_exporter": "python",
   "pygments_lexer": "ipython3",
   "version": "3.11.9"
  }
 },
 "nbformat": 4,
 "nbformat_minor": 2
}
